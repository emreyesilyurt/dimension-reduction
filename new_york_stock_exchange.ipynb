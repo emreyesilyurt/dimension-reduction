{
 "cells": [
  {
   "cell_type": "code",
   "execution_count": 1,
   "metadata": {},
   "outputs": [],
   "source": [
    "import pandas as pd\n",
    "import numpy as np\n",
    "import seaborn as sns\n",
    "import matplotlib.pyplot as plt\n",
    "from sklearn.model_selection import train_test_split\n",
    "\n",
    "from sklearn.metrics import r2_score\n",
    "pd.options.display.max_rows = 4000\n",
    "import sys\n",
    "if not sys.warnoptions:\n",
    "    import warnings\n",
    "    warnings.simplefilter(\"ignore\")"
   ]
  },
  {
   "cell_type": "code",
   "execution_count": 2,
   "metadata": {},
   "outputs": [],
   "source": [
    "dataset = pd.read_csv('dataset/fundamentals.csv')"
   ]
  },
  {
   "cell_type": "code",
   "execution_count": 3,
   "metadata": {},
   "outputs": [
    {
     "data": {
      "text/html": [
       "<div>\n",
       "<style scoped>\n",
       "    .dataframe tbody tr th:only-of-type {\n",
       "        vertical-align: middle;\n",
       "    }\n",
       "\n",
       "    .dataframe tbody tr th {\n",
       "        vertical-align: top;\n",
       "    }\n",
       "\n",
       "    .dataframe thead th {\n",
       "        text-align: right;\n",
       "    }\n",
       "</style>\n",
       "<table border=\"1\" class=\"dataframe\">\n",
       "  <thead>\n",
       "    <tr style=\"text-align: right;\">\n",
       "      <th></th>\n",
       "      <th>Unnamed: 0</th>\n",
       "      <th>Ticker Symbol</th>\n",
       "      <th>Period Ending</th>\n",
       "      <th>Accounts Payable</th>\n",
       "      <th>Accounts Receivable</th>\n",
       "      <th>Add'l income/expense items</th>\n",
       "      <th>After Tax ROE</th>\n",
       "      <th>Capital Expenditures</th>\n",
       "      <th>Capital Surplus</th>\n",
       "      <th>Cash Ratio</th>\n",
       "      <th>...</th>\n",
       "      <th>Total Current Assets</th>\n",
       "      <th>Total Current Liabilities</th>\n",
       "      <th>Total Equity</th>\n",
       "      <th>Total Liabilities</th>\n",
       "      <th>Total Liabilities &amp; Equity</th>\n",
       "      <th>Total Revenue</th>\n",
       "      <th>Treasury Stock</th>\n",
       "      <th>For Year</th>\n",
       "      <th>Earnings Per Share</th>\n",
       "      <th>Estimated Shares Outstanding</th>\n",
       "    </tr>\n",
       "  </thead>\n",
       "  <tbody>\n",
       "    <tr>\n",
       "      <th>0</th>\n",
       "      <td>0</td>\n",
       "      <td>AAL</td>\n",
       "      <td>2012-12-31</td>\n",
       "      <td>3.068000e+09</td>\n",
       "      <td>-222000000.0</td>\n",
       "      <td>-1.961000e+09</td>\n",
       "      <td>23.0</td>\n",
       "      <td>-1.888000e+09</td>\n",
       "      <td>4.695000e+09</td>\n",
       "      <td>53.0</td>\n",
       "      <td>...</td>\n",
       "      <td>7.072000e+09</td>\n",
       "      <td>9.011000e+09</td>\n",
       "      <td>-7.987000e+09</td>\n",
       "      <td>2.489100e+10</td>\n",
       "      <td>1.690400e+10</td>\n",
       "      <td>2.485500e+10</td>\n",
       "      <td>-367000000.0</td>\n",
       "      <td>2012.0</td>\n",
       "      <td>-5.60</td>\n",
       "      <td>3.350000e+08</td>\n",
       "    </tr>\n",
       "    <tr>\n",
       "      <th>1</th>\n",
       "      <td>1</td>\n",
       "      <td>AAL</td>\n",
       "      <td>2013-12-31</td>\n",
       "      <td>4.975000e+09</td>\n",
       "      <td>-93000000.0</td>\n",
       "      <td>-2.723000e+09</td>\n",
       "      <td>67.0</td>\n",
       "      <td>-3.114000e+09</td>\n",
       "      <td>1.059200e+10</td>\n",
       "      <td>75.0</td>\n",
       "      <td>...</td>\n",
       "      <td>1.432300e+10</td>\n",
       "      <td>1.380600e+10</td>\n",
       "      <td>-2.731000e+09</td>\n",
       "      <td>4.500900e+10</td>\n",
       "      <td>4.227800e+10</td>\n",
       "      <td>2.674300e+10</td>\n",
       "      <td>0.0</td>\n",
       "      <td>2013.0</td>\n",
       "      <td>-11.25</td>\n",
       "      <td>1.630222e+08</td>\n",
       "    </tr>\n",
       "    <tr>\n",
       "      <th>2</th>\n",
       "      <td>2</td>\n",
       "      <td>AAL</td>\n",
       "      <td>2014-12-31</td>\n",
       "      <td>4.668000e+09</td>\n",
       "      <td>-160000000.0</td>\n",
       "      <td>-1.500000e+08</td>\n",
       "      <td>143.0</td>\n",
       "      <td>-5.311000e+09</td>\n",
       "      <td>1.513500e+10</td>\n",
       "      <td>60.0</td>\n",
       "      <td>...</td>\n",
       "      <td>1.175000e+10</td>\n",
       "      <td>1.340400e+10</td>\n",
       "      <td>2.021000e+09</td>\n",
       "      <td>4.120400e+10</td>\n",
       "      <td>4.322500e+10</td>\n",
       "      <td>4.265000e+10</td>\n",
       "      <td>0.0</td>\n",
       "      <td>2014.0</td>\n",
       "      <td>4.02</td>\n",
       "      <td>7.169154e+08</td>\n",
       "    </tr>\n",
       "    <tr>\n",
       "      <th>3</th>\n",
       "      <td>3</td>\n",
       "      <td>AAL</td>\n",
       "      <td>2015-12-31</td>\n",
       "      <td>5.102000e+09</td>\n",
       "      <td>352000000.0</td>\n",
       "      <td>-7.080000e+08</td>\n",
       "      <td>135.0</td>\n",
       "      <td>-6.151000e+09</td>\n",
       "      <td>1.159100e+10</td>\n",
       "      <td>51.0</td>\n",
       "      <td>...</td>\n",
       "      <td>9.985000e+09</td>\n",
       "      <td>1.360500e+10</td>\n",
       "      <td>5.635000e+09</td>\n",
       "      <td>4.278000e+10</td>\n",
       "      <td>4.841500e+10</td>\n",
       "      <td>4.099000e+10</td>\n",
       "      <td>0.0</td>\n",
       "      <td>2015.0</td>\n",
       "      <td>11.39</td>\n",
       "      <td>6.681299e+08</td>\n",
       "    </tr>\n",
       "    <tr>\n",
       "      <th>4</th>\n",
       "      <td>4</td>\n",
       "      <td>AAP</td>\n",
       "      <td>2012-12-29</td>\n",
       "      <td>2.409453e+09</td>\n",
       "      <td>-89482000.0</td>\n",
       "      <td>6.000000e+05</td>\n",
       "      <td>32.0</td>\n",
       "      <td>-2.711820e+08</td>\n",
       "      <td>5.202150e+08</td>\n",
       "      <td>23.0</td>\n",
       "      <td>...</td>\n",
       "      <td>3.184200e+09</td>\n",
       "      <td>2.559638e+09</td>\n",
       "      <td>1.210694e+09</td>\n",
       "      <td>3.403120e+09</td>\n",
       "      <td>4.613814e+09</td>\n",
       "      <td>6.205003e+09</td>\n",
       "      <td>-27095000.0</td>\n",
       "      <td>2012.0</td>\n",
       "      <td>5.29</td>\n",
       "      <td>7.328355e+07</td>\n",
       "    </tr>\n",
       "  </tbody>\n",
       "</table>\n",
       "<p>5 rows × 79 columns</p>\n",
       "</div>"
      ],
      "text/plain": [
       "   Unnamed: 0 Ticker Symbol Period Ending  Accounts Payable  \\\n",
       "0           0           AAL    2012-12-31      3.068000e+09   \n",
       "1           1           AAL    2013-12-31      4.975000e+09   \n",
       "2           2           AAL    2014-12-31      4.668000e+09   \n",
       "3           3           AAL    2015-12-31      5.102000e+09   \n",
       "4           4           AAP    2012-12-29      2.409453e+09   \n",
       "\n",
       "   Accounts Receivable  Add'l income/expense items  After Tax ROE  \\\n",
       "0         -222000000.0               -1.961000e+09           23.0   \n",
       "1          -93000000.0               -2.723000e+09           67.0   \n",
       "2         -160000000.0               -1.500000e+08          143.0   \n",
       "3          352000000.0               -7.080000e+08          135.0   \n",
       "4          -89482000.0                6.000000e+05           32.0   \n",
       "\n",
       "   Capital Expenditures  Capital Surplus  Cash Ratio  ...  \\\n",
       "0         -1.888000e+09     4.695000e+09        53.0  ...   \n",
       "1         -3.114000e+09     1.059200e+10        75.0  ...   \n",
       "2         -5.311000e+09     1.513500e+10        60.0  ...   \n",
       "3         -6.151000e+09     1.159100e+10        51.0  ...   \n",
       "4         -2.711820e+08     5.202150e+08        23.0  ...   \n",
       "\n",
       "   Total Current Assets  Total Current Liabilities  Total Equity  \\\n",
       "0          7.072000e+09               9.011000e+09 -7.987000e+09   \n",
       "1          1.432300e+10               1.380600e+10 -2.731000e+09   \n",
       "2          1.175000e+10               1.340400e+10  2.021000e+09   \n",
       "3          9.985000e+09               1.360500e+10  5.635000e+09   \n",
       "4          3.184200e+09               2.559638e+09  1.210694e+09   \n",
       "\n",
       "   Total Liabilities  Total Liabilities & Equity  Total Revenue  \\\n",
       "0       2.489100e+10                1.690400e+10   2.485500e+10   \n",
       "1       4.500900e+10                4.227800e+10   2.674300e+10   \n",
       "2       4.120400e+10                4.322500e+10   4.265000e+10   \n",
       "3       4.278000e+10                4.841500e+10   4.099000e+10   \n",
       "4       3.403120e+09                4.613814e+09   6.205003e+09   \n",
       "\n",
       "   Treasury Stock  For Year  Earnings Per Share  Estimated Shares Outstanding  \n",
       "0    -367000000.0    2012.0               -5.60                  3.350000e+08  \n",
       "1             0.0    2013.0              -11.25                  1.630222e+08  \n",
       "2             0.0    2014.0                4.02                  7.169154e+08  \n",
       "3             0.0    2015.0               11.39                  6.681299e+08  \n",
       "4     -27095000.0    2012.0                5.29                  7.328355e+07  \n",
       "\n",
       "[5 rows x 79 columns]"
      ]
     },
     "execution_count": 3,
     "metadata": {},
     "output_type": "execute_result"
    }
   ],
   "source": [
    "dataset.head()"
   ]
  },
  {
   "cell_type": "code",
   "execution_count": 4,
   "metadata": {},
   "outputs": [],
   "source": [
    "dataset.drop(['Ticker Symbol', 'Period Ending', 'Unnamed: 0'], axis = 1, inplace = True)"
   ]
  },
  {
   "cell_type": "code",
   "execution_count": 5,
   "metadata": {},
   "outputs": [
    {
     "data": {
      "text/plain": [
       "Index(['Accounts Payable', 'Accounts Receivable', 'Add'l income/expense items',\n",
       "       'After Tax ROE', 'Capital Expenditures', 'Capital Surplus',\n",
       "       'Cash Ratio', 'Cash and Cash Equivalents', 'Changes in Inventories',\n",
       "       'Common Stocks', 'Cost of Revenue', 'Current Ratio',\n",
       "       'Deferred Asset Charges', 'Deferred Liability Charges', 'Depreciation',\n",
       "       'Earnings Before Interest and Tax', 'Earnings Before Tax',\n",
       "       'Effect of Exchange Rate',\n",
       "       'Equity Earnings/Loss Unconsolidated Subsidiary', 'Fixed Assets',\n",
       "       'Goodwill', 'Gross Margin', 'Gross Profit', 'Income Tax',\n",
       "       'Intangible Assets', 'Interest Expense', 'Inventory', 'Investments',\n",
       "       'Liabilities', 'Long-Term Debt', 'Long-Term Investments',\n",
       "       'Minority Interest', 'Misc. Stocks', 'Net Borrowings', 'Net Cash Flow',\n",
       "       'Net Cash Flow-Operating', 'Net Cash Flows-Financing',\n",
       "       'Net Cash Flows-Investing', 'Net Income', 'Net Income Adjustments',\n",
       "       'Net Income Applicable to Common Shareholders',\n",
       "       'Net Income-Cont. Operations', 'Net Receivables', 'Non-Recurring Items',\n",
       "       'Operating Income', 'Operating Margin', 'Other Assets',\n",
       "       'Other Current Assets', 'Other Current Liabilities', 'Other Equity',\n",
       "       'Other Financing Activities', 'Other Investing Activities',\n",
       "       'Other Liabilities', 'Other Operating Activities',\n",
       "       'Other Operating Items', 'Pre-Tax Margin', 'Pre-Tax ROE',\n",
       "       'Profit Margin', 'Quick Ratio', 'Research and Development',\n",
       "       'Retained Earnings', 'Sale and Purchase of Stock',\n",
       "       'Sales, General and Admin.',\n",
       "       'Short-Term Debt / Current Portion of Long-Term Debt',\n",
       "       'Short-Term Investments', 'Total Assets', 'Total Current Assets',\n",
       "       'Total Current Liabilities', 'Total Equity', 'Total Liabilities',\n",
       "       'Total Liabilities & Equity', 'Total Revenue', 'Treasury Stock',\n",
       "       'For Year', 'Earnings Per Share', 'Estimated Shares Outstanding'],\n",
       "      dtype='object')"
      ]
     },
     "execution_count": 5,
     "metadata": {},
     "output_type": "execute_result"
    }
   ],
   "source": [
    "dataset.columns"
   ]
  },
  {
   "cell_type": "markdown",
   "metadata": {},
   "source": [
    "# Detecting Missing Values"
   ]
  },
  {
   "cell_type": "code",
   "execution_count": 6,
   "metadata": {},
   "outputs": [
    {
     "data": {
      "text/plain": [
       "Accounts Payable                                         0\n",
       "Accounts Receivable                                      0\n",
       "Add'l income/expense items                               0\n",
       "After Tax ROE                                            0\n",
       "Capital Expenditures                                     0\n",
       "Capital Surplus                                          0\n",
       "Cash Ratio                                             299\n",
       "Cash and Cash Equivalents                                0\n",
       "Changes in Inventories                                   0\n",
       "Common Stocks                                            0\n",
       "Cost of Revenue                                          0\n",
       "Current Ratio                                          299\n",
       "Deferred Asset Charges                                   0\n",
       "Deferred Liability Charges                               0\n",
       "Depreciation                                             0\n",
       "Earnings Before Interest and Tax                         0\n",
       "Earnings Before Tax                                      0\n",
       "Effect of Exchange Rate                                  0\n",
       "Equity Earnings/Loss Unconsolidated Subsidiary           0\n",
       "Fixed Assets                                             0\n",
       "Goodwill                                                 0\n",
       "Gross Margin                                             0\n",
       "Gross Profit                                             0\n",
       "Income Tax                                               0\n",
       "Intangible Assets                                        0\n",
       "Interest Expense                                         0\n",
       "Inventory                                                0\n",
       "Investments                                              0\n",
       "Liabilities                                              0\n",
       "Long-Term Debt                                           0\n",
       "Long-Term Investments                                    0\n",
       "Minority Interest                                        0\n",
       "Misc. Stocks                                             0\n",
       "Net Borrowings                                           0\n",
       "Net Cash Flow                                            0\n",
       "Net Cash Flow-Operating                                  0\n",
       "Net Cash Flows-Financing                                 0\n",
       "Net Cash Flows-Investing                                 0\n",
       "Net Income                                               0\n",
       "Net Income Adjustments                                   0\n",
       "Net Income Applicable to Common Shareholders             0\n",
       "Net Income-Cont. Operations                              0\n",
       "Net Receivables                                          0\n",
       "Non-Recurring Items                                      0\n",
       "Operating Income                                         0\n",
       "Operating Margin                                         0\n",
       "Other Assets                                             0\n",
       "Other Current Assets                                     0\n",
       "Other Current Liabilities                                0\n",
       "Other Equity                                             0\n",
       "Other Financing Activities                               0\n",
       "Other Investing Activities                               0\n",
       "Other Liabilities                                        0\n",
       "Other Operating Activities                               0\n",
       "Other Operating Items                                    0\n",
       "Pre-Tax Margin                                           0\n",
       "Pre-Tax ROE                                              0\n",
       "Profit Margin                                            0\n",
       "Quick Ratio                                            299\n",
       "Research and Development                                 0\n",
       "Retained Earnings                                        0\n",
       "Sale and Purchase of Stock                               0\n",
       "Sales, General and Admin.                                0\n",
       "Short-Term Debt / Current Portion of Long-Term Debt      0\n",
       "Short-Term Investments                                   0\n",
       "Total Assets                                             0\n",
       "Total Current Assets                                     0\n",
       "Total Current Liabilities                                0\n",
       "Total Equity                                             0\n",
       "Total Liabilities                                        0\n",
       "Total Liabilities & Equity                               0\n",
       "Total Revenue                                            0\n",
       "Treasury Stock                                           0\n",
       "For Year                                               173\n",
       "Earnings Per Share                                     219\n",
       "Estimated Shares Outstanding                           219\n",
       "dtype: int64"
      ]
     },
     "execution_count": 6,
     "metadata": {},
     "output_type": "execute_result"
    }
   ],
   "source": [
    "dataset.isnull().sum()"
   ]
  },
  {
   "cell_type": "code",
   "execution_count": 7,
   "metadata": {},
   "outputs": [
    {
     "data": {
      "text/plain": [
       "Accounts Payable                                       float64\n",
       "Accounts Receivable                                    float64\n",
       "Add'l income/expense items                             float64\n",
       "After Tax ROE                                          float64\n",
       "Capital Expenditures                                   float64\n",
       "Capital Surplus                                        float64\n",
       "Cash Ratio                                             float64\n",
       "Cash and Cash Equivalents                              float64\n",
       "Changes in Inventories                                 float64\n",
       "Common Stocks                                          float64\n",
       "Cost of Revenue                                        float64\n",
       "Current Ratio                                          float64\n",
       "Deferred Asset Charges                                 float64\n",
       "Deferred Liability Charges                             float64\n",
       "Depreciation                                           float64\n",
       "Earnings Before Interest and Tax                       float64\n",
       "Earnings Before Tax                                    float64\n",
       "Effect of Exchange Rate                                float64\n",
       "Equity Earnings/Loss Unconsolidated Subsidiary         float64\n",
       "Fixed Assets                                           float64\n",
       "Goodwill                                               float64\n",
       "Gross Margin                                           float64\n",
       "Gross Profit                                           float64\n",
       "Income Tax                                             float64\n",
       "Intangible Assets                                      float64\n",
       "Interest Expense                                       float64\n",
       "Inventory                                              float64\n",
       "Investments                                            float64\n",
       "Liabilities                                            float64\n",
       "Long-Term Debt                                         float64\n",
       "Long-Term Investments                                  float64\n",
       "Minority Interest                                      float64\n",
       "Misc. Stocks                                           float64\n",
       "Net Borrowings                                         float64\n",
       "Net Cash Flow                                          float64\n",
       "Net Cash Flow-Operating                                float64\n",
       "Net Cash Flows-Financing                               float64\n",
       "Net Cash Flows-Investing                               float64\n",
       "Net Income                                             float64\n",
       "Net Income Adjustments                                 float64\n",
       "Net Income Applicable to Common Shareholders           float64\n",
       "Net Income-Cont. Operations                            float64\n",
       "Net Receivables                                        float64\n",
       "Non-Recurring Items                                    float64\n",
       "Operating Income                                       float64\n",
       "Operating Margin                                       float64\n",
       "Other Assets                                           float64\n",
       "Other Current Assets                                   float64\n",
       "Other Current Liabilities                              float64\n",
       "Other Equity                                           float64\n",
       "Other Financing Activities                             float64\n",
       "Other Investing Activities                             float64\n",
       "Other Liabilities                                      float64\n",
       "Other Operating Activities                             float64\n",
       "Other Operating Items                                  float64\n",
       "Pre-Tax Margin                                         float64\n",
       "Pre-Tax ROE                                            float64\n",
       "Profit Margin                                          float64\n",
       "Quick Ratio                                            float64\n",
       "Research and Development                               float64\n",
       "Retained Earnings                                      float64\n",
       "Sale and Purchase of Stock                             float64\n",
       "Sales, General and Admin.                              float64\n",
       "Short-Term Debt / Current Portion of Long-Term Debt    float64\n",
       "Short-Term Investments                                 float64\n",
       "Total Assets                                           float64\n",
       "Total Current Assets                                   float64\n",
       "Total Current Liabilities                              float64\n",
       "Total Equity                                           float64\n",
       "Total Liabilities                                      float64\n",
       "Total Liabilities & Equity                             float64\n",
       "Total Revenue                                          float64\n",
       "Treasury Stock                                         float64\n",
       "For Year                                               float64\n",
       "Earnings Per Share                                     float64\n",
       "Estimated Shares Outstanding                           float64\n",
       "dtype: object"
      ]
     },
     "execution_count": 7,
     "metadata": {},
     "output_type": "execute_result"
    }
   ],
   "source": [
    "dataset.dtypes"
   ]
  },
  {
   "cell_type": "markdown",
   "metadata": {},
   "source": [
    "# Correction of missing values"
   ]
  },
  {
   "cell_type": "code",
   "execution_count": 8,
   "metadata": {},
   "outputs": [],
   "source": [
    "from sklearn.impute import SimpleImputer\n",
    "imputer = SimpleImputer(missing_values = np.nan, strategy = 'mean')\n",
    "dataset.iloc[:,6:7] = imputer.fit_transform(dataset.iloc[:,6:7])\n",
    "dataset.iloc[:,11:12] = imputer.fit_transform(dataset.iloc[:,11:12])\n",
    "dataset.iloc[:,58:59] = imputer.fit_transform(dataset.iloc[:,58:59])\n",
    "dataset.iloc[:,-1:] = imputer.fit_transform(dataset.iloc[:,-1:])\n",
    "dataset.iloc[:,-2:-1] = imputer.fit_transform(dataset.iloc[:,-2:-1])\n",
    "dataset.iloc[:,-3:-2] = imputer.fit_transform(dataset.iloc[:,-3:-2])"
   ]
  },
  {
   "cell_type": "code",
   "execution_count": 9,
   "metadata": {},
   "outputs": [],
   "source": [
    "X = dataset.drop('Earnings Per Share', axis = 1).values\n",
    "Y = dataset.iloc[:,-2:-1].values"
   ]
  },
  {
   "cell_type": "code",
   "execution_count": 92,
   "metadata": {},
   "outputs": [],
   "source": [
    "from sklearn.model_selection import train_test_split\n",
    "x_train, x_test,y_train,y_test = train_test_split(X, Y,test_size=0.15)"
   ]
  },
  {
   "cell_type": "markdown",
   "metadata": {},
   "source": [
    "# Standardize the Data\n"
   ]
  },
  {
   "cell_type": "code",
   "execution_count": 93,
   "metadata": {},
   "outputs": [],
   "source": [
    "from sklearn.preprocessing import StandardScaler\n",
    "sc = StandardScaler()\n",
    "X_train = sc.fit_transform(x_train)\n",
    "X_test = sc.fit_transform(x_test)"
   ]
  },
  {
   "cell_type": "code",
   "execution_count": 94,
   "metadata": {},
   "outputs": [
    {
     "data": {
      "text/plain": [
       "array([[-0.20249977,  0.07082054, -0.02959522, ..., -0.27759063,\n",
       "        -0.67744363, -0.38326756],\n",
       "       [-0.22708406, -0.03032134, -0.07664309, ...,  0.27200905,\n",
       "         0.23330849, -0.48679789],\n",
       "       [-0.30740723,  0.07026354, -0.10399149, ...,  0.08623277,\n",
       "         1.14406061, -0.45619512],\n",
       "       ...,\n",
       "       [-0.2509117 ,  0.01675482, -0.27880078, ..., -0.09383247,\n",
       "        -0.39934706, -0.00239316],\n",
       "       [ 0.2802109 , -0.86715696,  1.85549958, ..., -0.13630519,\n",
       "        -0.67744363,  0.18729179],\n",
       "       [-0.30276665,  0.05438582, -0.10450978, ...,  0.27200905,\n",
       "        -0.67744363, -0.46067598]])"
      ]
     },
     "execution_count": 94,
     "metadata": {},
     "output_type": "execute_result"
    }
   ],
   "source": [
    "X_train"
   ]
  },
  {
   "cell_type": "markdown",
   "metadata": {},
   "source": [
    "# Principal component analysis"
   ]
  },
  {
   "cell_type": "code",
   "execution_count": 95,
   "metadata": {},
   "outputs": [],
   "source": [
    "from sklearn.decomposition import PCA\n",
    "\n",
    "pca = PCA(n_components = 20)\n",
    "X_train_pca = pca.fit_transform(X_train)\n",
    "X_test_pca = pca.transform(X_test)"
   ]
  },
  {
   "cell_type": "code",
   "execution_count": 98,
   "metadata": {
    "scrolled": true
   },
   "outputs": [
    {
     "data": {
      "text/plain": [
       "(1513, 75)"
      ]
     },
     "execution_count": 98,
     "metadata": {},
     "output_type": "execute_result"
    }
   ],
   "source": [
    "X_train.shape"
   ]
  },
  {
   "cell_type": "code",
   "execution_count": 99,
   "metadata": {
    "scrolled": true
   },
   "outputs": [
    {
     "data": {
      "text/plain": [
       "(1513, 20)"
      ]
     },
     "execution_count": 99,
     "metadata": {},
     "output_type": "execute_result"
    }
   ],
   "source": [
    "X_train_pca.shape"
   ]
  },
  {
   "cell_type": "code",
   "execution_count": 96,
   "metadata": {},
   "outputs": [
    {
     "name": "stdout",
     "output_type": "stream",
     "text": [
      "Ada R2 Score:  0.8023455481602086\n"
     ]
    }
   ],
   "source": [
    "from sklearn.ensemble import AdaBoostRegressor\n",
    "from xgboost import XGBRegressor\n",
    "ada = AdaBoostRegressor(base_estimator=XGBRegressor(n_estimators=100, base_score = 3, booster = 'gbtree', gamma = 1, random_state = None), n_estimators=20, learning_rate=1, loss='linear', random_state=1)\n",
    "ada.fit(X_train_pca, y_train)\n",
    "y_pred_ada = ada.predict(X_test_pca)\n",
    "\n",
    "print('Ada R2 Score: ', r2_score(y_test, y_pred_ada))"
   ]
  }
 ],
 "metadata": {
  "kernelspec": {
   "display_name": "Python 3",
   "language": "python",
   "name": "python3"
  },
  "language_info": {
   "codemirror_mode": {
    "name": "ipython",
    "version": 3
   },
   "file_extension": ".py",
   "mimetype": "text/x-python",
   "name": "python",
   "nbconvert_exporter": "python",
   "pygments_lexer": "ipython3",
   "version": "3.8.3"
  }
 },
 "nbformat": 4,
 "nbformat_minor": 4
}
