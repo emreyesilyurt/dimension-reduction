{
 "cells": [
  {
   "cell_type": "code",
   "execution_count": 1,
   "metadata": {},
   "outputs": [],
   "source": [
    "import pandas as pd\n",
    "import numpy as np\n",
    "import seaborn as sns\n",
    "import matplotlib.pyplot as plt\n",
    "from sklearn.metrics import r2_score\n",
    "pd.options.display.max_rows = 4000\n",
    "import sys\n",
    "if not sys.warnoptions:\n",
    "    import warnings\n",
    "    warnings.simplefilter(\"ignore\")"
   ]
  },
  {
   "cell_type": "code",
   "execution_count": 2,
   "metadata": {},
   "outputs": [],
   "source": [
    "iris = sns.load_dataset('iris')\n"
   ]
  },
  {
   "cell_type": "code",
   "execution_count": 3,
   "metadata": {},
   "outputs": [],
   "source": [
    "X = iris.iloc[:,:-1].values\n",
    "Y = iris.iloc[:,-1:].values"
   ]
  },
  {
   "cell_type": "code",
   "execution_count": 4,
   "metadata": {},
   "outputs": [],
   "source": [
    "from sklearn.model_selection import train_test_split\n",
    "x_train, x_test,y_train,y_test = train_test_split(X, Y,test_size=0.2, random_state=0)"
   ]
  },
  {
   "cell_type": "markdown",
   "metadata": {},
   "source": [
    "# Scaling\n",
    "\n",
    "Scaling should be applied before applying dimension reduction."
   ]
  },
  {
   "cell_type": "code",
   "execution_count": 5,
   "metadata": {},
   "outputs": [],
   "source": [
    "from sklearn.preprocessing import StandardScaler\n",
    "sc = StandardScaler()\n",
    "X_train = sc.fit_transform(x_train)\n",
    "X_test = sc.fit_transform(x_test)"
   ]
  },
  {
   "cell_type": "markdown",
   "metadata": {},
   "source": [
    "# PCA and LDA objects are created."
   ]
  },
  {
   "cell_type": "code",
   "execution_count": 6,
   "metadata": {},
   "outputs": [],
   "source": [
    "from sklearn.decomposition import PCA\n",
    "\n",
    "pca = PCA(n_components = 2)\n",
    "X_train_pca = pca.fit_transform(X_train)\n",
    "X_test_pca = pca.transform(X_test)\n",
    "\n",
    "\n",
    "from sklearn.discriminant_analysis import LinearDiscriminantAnalysis\n",
    "\n",
    "lda = LinearDiscriminantAnalysis(n_components = 2)\n",
    "X_train_lda = lda.fit_transform(X_train, y_train)\n",
    "X_test_lda = lda.transform(X_test)"
   ]
  },
  {
   "cell_type": "markdown",
   "metadata": {},
   "source": [
    "# Modelling"
   ]
  },
  {
   "cell_type": "code",
   "execution_count": 7,
   "metadata": {},
   "outputs": [],
   "source": [
    "from xgboost import XGBClassifier\n",
    "xgb = XGBClassifier()\n",
    "xgb_pca =XGBClassifier()\n",
    "xgb_lda = XGBClassifier()\n",
    "\n",
    "xgb.fit(X_train, y_train)\n",
    "xgb_pca.fit(X_train_pca, y_train)\n",
    "xgb_lda.fit(X_train_lda, y_train)\n",
    "\n",
    "y_pred = xgb.predict(X_test)\n",
    "y_pred_pca = xgb_pca.predict(X_test_pca)\n",
    "y_pred_lda = xgb_lda.predict(X_test_lda)\n"
   ]
  },
  {
   "cell_type": "markdown",
   "metadata": {},
   "source": [
    "# Comparison"
   ]
  },
  {
   "cell_type": "code",
   "execution_count": 8,
   "metadata": {},
   "outputs": [
    {
     "name": "stdout",
     "output_type": "stream",
     "text": [
      "XGB\n",
      " [[11  0  0]\n",
      " [ 0  9  4]\n",
      " [ 0  0  6]]\n",
      "\n",
      "\n",
      "XGB PCA\n",
      " [[11  0  0]\n",
      " [ 0  6  7]\n",
      " [ 0  0  6]]\n",
      "\n",
      "\n",
      "XGB LDA\n",
      " [[11  0  0]\n",
      " [ 0 12  1]\n",
      " [ 0  0  6]]\n"
     ]
    }
   ],
   "source": [
    "from sklearn.metrics import confusion_matrix\n",
    "\n",
    "\n",
    "print('XGB\\n', confusion_matrix(y_test, y_pred))\n",
    "print('\\n\\nXGB PCA\\n', confusion_matrix(y_test, y_pred_pca))\n",
    "print('\\n\\nXGB LDA\\n', confusion_matrix(y_test, y_pred_lda))"
   ]
  },
  {
   "cell_type": "code",
   "execution_count": null,
   "metadata": {},
   "outputs": [],
   "source": []
  },
  {
   "cell_type": "code",
   "execution_count": null,
   "metadata": {},
   "outputs": [],
   "source": []
  },
  {
   "cell_type": "code",
   "execution_count": null,
   "metadata": {},
   "outputs": [],
   "source": []
  },
  {
   "cell_type": "markdown",
   "metadata": {},
   "source": [
    "**Application of PCA on New York Stock Exchange data set.**"
   ]
  },
  {
   "cell_type": "code",
   "execution_count": 9,
   "metadata": {},
   "outputs": [
    {
     "name": "stdout",
     "output_type": "stream",
     "text": [
      "Index(['Unnamed: 0', 'Ticker Symbol', 'Period Ending', 'Accounts Payable',\n",
      "       'Accounts Receivable', 'Add'l income/expense items', 'After Tax ROE',\n",
      "       'Capital Expenditures', 'Capital Surplus', 'Cash Ratio',\n",
      "       'Cash and Cash Equivalents', 'Changes in Inventories', 'Common Stocks',\n",
      "       'Cost of Revenue', 'Current Ratio', 'Deferred Asset Charges',\n",
      "       'Deferred Liability Charges', 'Depreciation',\n",
      "       'Earnings Before Interest and Tax', 'Earnings Before Tax',\n",
      "       'Effect of Exchange Rate',\n",
      "       'Equity Earnings/Loss Unconsolidated Subsidiary', 'Fixed Assets',\n",
      "       'Goodwill', 'Gross Margin', 'Gross Profit', 'Income Tax',\n",
      "       'Intangible Assets', 'Interest Expense', 'Inventory', 'Investments',\n",
      "       'Liabilities', 'Long-Term Debt', 'Long-Term Investments',\n",
      "       'Minority Interest', 'Misc. Stocks', 'Net Borrowings', 'Net Cash Flow',\n",
      "       'Net Cash Flow-Operating', 'Net Cash Flows-Financing',\n",
      "       'Net Cash Flows-Investing', 'Net Income', 'Net Income Adjustments',\n",
      "       'Net Income Applicable to Common Shareholders',\n",
      "       'Net Income-Cont. Operations', 'Net Receivables', 'Non-Recurring Items',\n",
      "       'Operating Income', 'Operating Margin', 'Other Assets',\n",
      "       'Other Current Assets', 'Other Current Liabilities', 'Other Equity',\n",
      "       'Other Financing Activities', 'Other Investing Activities',\n",
      "       'Other Liabilities', 'Other Operating Activities',\n",
      "       'Other Operating Items', 'Pre-Tax Margin', 'Pre-Tax ROE',\n",
      "       'Profit Margin', 'Quick Ratio', 'Research and Development',\n",
      "       'Retained Earnings', 'Sale and Purchase of Stock',\n",
      "       'Sales, General and Admin.',\n",
      "       'Short-Term Debt / Current Portion of Long-Term Debt',\n",
      "       'Short-Term Investments', 'Total Assets', 'Total Current Assets',\n",
      "       'Total Current Liabilities', 'Total Equity', 'Total Liabilities',\n",
      "       'Total Liabilities & Equity', 'Total Revenue', 'Treasury Stock',\n",
      "       'For Year', 'Earnings Per Share', 'Estimated Shares Outstanding'],\n",
      "      dtype='object')\n"
     ]
    }
   ],
   "source": [
    "dataset = pd.read_csv('fundamentals.csv')\n",
    "print(dataset.columns)"
   ]
  },
  {
   "cell_type": "code",
   "execution_count": 10,
   "metadata": {},
   "outputs": [
    {
     "data": {
      "text/html": [
       "<div>\n",
       "<style scoped>\n",
       "    .dataframe tbody tr th:only-of-type {\n",
       "        vertical-align: middle;\n",
       "    }\n",
       "\n",
       "    .dataframe tbody tr th {\n",
       "        vertical-align: top;\n",
       "    }\n",
       "\n",
       "    .dataframe thead th {\n",
       "        text-align: right;\n",
       "    }\n",
       "</style>\n",
       "<table border=\"1\" class=\"dataframe\">\n",
       "  <thead>\n",
       "    <tr style=\"text-align: right;\">\n",
       "      <th></th>\n",
       "      <th>Unnamed: 0</th>\n",
       "      <th>Ticker Symbol</th>\n",
       "      <th>Period Ending</th>\n",
       "      <th>Accounts Payable</th>\n",
       "      <th>Accounts Receivable</th>\n",
       "      <th>Add'l income/expense items</th>\n",
       "      <th>After Tax ROE</th>\n",
       "      <th>Capital Expenditures</th>\n",
       "      <th>Capital Surplus</th>\n",
       "      <th>Cash Ratio</th>\n",
       "      <th>...</th>\n",
       "      <th>Total Current Assets</th>\n",
       "      <th>Total Current Liabilities</th>\n",
       "      <th>Total Equity</th>\n",
       "      <th>Total Liabilities</th>\n",
       "      <th>Total Liabilities &amp; Equity</th>\n",
       "      <th>Total Revenue</th>\n",
       "      <th>Treasury Stock</th>\n",
       "      <th>For Year</th>\n",
       "      <th>Earnings Per Share</th>\n",
       "      <th>Estimated Shares Outstanding</th>\n",
       "    </tr>\n",
       "  </thead>\n",
       "  <tbody>\n",
       "    <tr>\n",
       "      <th>0</th>\n",
       "      <td>0</td>\n",
       "      <td>AAL</td>\n",
       "      <td>2012-12-31</td>\n",
       "      <td>3.068000e+09</td>\n",
       "      <td>-222000000.0</td>\n",
       "      <td>-1.961000e+09</td>\n",
       "      <td>23.0</td>\n",
       "      <td>-1.888000e+09</td>\n",
       "      <td>4.695000e+09</td>\n",
       "      <td>53.0</td>\n",
       "      <td>...</td>\n",
       "      <td>7.072000e+09</td>\n",
       "      <td>9.011000e+09</td>\n",
       "      <td>-7.987000e+09</td>\n",
       "      <td>2.489100e+10</td>\n",
       "      <td>1.690400e+10</td>\n",
       "      <td>2.485500e+10</td>\n",
       "      <td>-367000000.0</td>\n",
       "      <td>2012.0</td>\n",
       "      <td>-5.60</td>\n",
       "      <td>3.350000e+08</td>\n",
       "    </tr>\n",
       "    <tr>\n",
       "      <th>1</th>\n",
       "      <td>1</td>\n",
       "      <td>AAL</td>\n",
       "      <td>2013-12-31</td>\n",
       "      <td>4.975000e+09</td>\n",
       "      <td>-93000000.0</td>\n",
       "      <td>-2.723000e+09</td>\n",
       "      <td>67.0</td>\n",
       "      <td>-3.114000e+09</td>\n",
       "      <td>1.059200e+10</td>\n",
       "      <td>75.0</td>\n",
       "      <td>...</td>\n",
       "      <td>1.432300e+10</td>\n",
       "      <td>1.380600e+10</td>\n",
       "      <td>-2.731000e+09</td>\n",
       "      <td>4.500900e+10</td>\n",
       "      <td>4.227800e+10</td>\n",
       "      <td>2.674300e+10</td>\n",
       "      <td>0.0</td>\n",
       "      <td>2013.0</td>\n",
       "      <td>-11.25</td>\n",
       "      <td>1.630222e+08</td>\n",
       "    </tr>\n",
       "    <tr>\n",
       "      <th>2</th>\n",
       "      <td>2</td>\n",
       "      <td>AAL</td>\n",
       "      <td>2014-12-31</td>\n",
       "      <td>4.668000e+09</td>\n",
       "      <td>-160000000.0</td>\n",
       "      <td>-1.500000e+08</td>\n",
       "      <td>143.0</td>\n",
       "      <td>-5.311000e+09</td>\n",
       "      <td>1.513500e+10</td>\n",
       "      <td>60.0</td>\n",
       "      <td>...</td>\n",
       "      <td>1.175000e+10</td>\n",
       "      <td>1.340400e+10</td>\n",
       "      <td>2.021000e+09</td>\n",
       "      <td>4.120400e+10</td>\n",
       "      <td>4.322500e+10</td>\n",
       "      <td>4.265000e+10</td>\n",
       "      <td>0.0</td>\n",
       "      <td>2014.0</td>\n",
       "      <td>4.02</td>\n",
       "      <td>7.169154e+08</td>\n",
       "    </tr>\n",
       "    <tr>\n",
       "      <th>3</th>\n",
       "      <td>3</td>\n",
       "      <td>AAL</td>\n",
       "      <td>2015-12-31</td>\n",
       "      <td>5.102000e+09</td>\n",
       "      <td>352000000.0</td>\n",
       "      <td>-7.080000e+08</td>\n",
       "      <td>135.0</td>\n",
       "      <td>-6.151000e+09</td>\n",
       "      <td>1.159100e+10</td>\n",
       "      <td>51.0</td>\n",
       "      <td>...</td>\n",
       "      <td>9.985000e+09</td>\n",
       "      <td>1.360500e+10</td>\n",
       "      <td>5.635000e+09</td>\n",
       "      <td>4.278000e+10</td>\n",
       "      <td>4.841500e+10</td>\n",
       "      <td>4.099000e+10</td>\n",
       "      <td>0.0</td>\n",
       "      <td>2015.0</td>\n",
       "      <td>11.39</td>\n",
       "      <td>6.681299e+08</td>\n",
       "    </tr>\n",
       "    <tr>\n",
       "      <th>4</th>\n",
       "      <td>4</td>\n",
       "      <td>AAP</td>\n",
       "      <td>2012-12-29</td>\n",
       "      <td>2.409453e+09</td>\n",
       "      <td>-89482000.0</td>\n",
       "      <td>6.000000e+05</td>\n",
       "      <td>32.0</td>\n",
       "      <td>-2.711820e+08</td>\n",
       "      <td>5.202150e+08</td>\n",
       "      <td>23.0</td>\n",
       "      <td>...</td>\n",
       "      <td>3.184200e+09</td>\n",
       "      <td>2.559638e+09</td>\n",
       "      <td>1.210694e+09</td>\n",
       "      <td>3.403120e+09</td>\n",
       "      <td>4.613814e+09</td>\n",
       "      <td>6.205003e+09</td>\n",
       "      <td>-27095000.0</td>\n",
       "      <td>2012.0</td>\n",
       "      <td>5.29</td>\n",
       "      <td>7.328355e+07</td>\n",
       "    </tr>\n",
       "  </tbody>\n",
       "</table>\n",
       "<p>5 rows × 79 columns</p>\n",
       "</div>"
      ],
      "text/plain": [
       "   Unnamed: 0 Ticker Symbol Period Ending  Accounts Payable  \\\n",
       "0           0           AAL    2012-12-31      3.068000e+09   \n",
       "1           1           AAL    2013-12-31      4.975000e+09   \n",
       "2           2           AAL    2014-12-31      4.668000e+09   \n",
       "3           3           AAL    2015-12-31      5.102000e+09   \n",
       "4           4           AAP    2012-12-29      2.409453e+09   \n",
       "\n",
       "   Accounts Receivable  Add'l income/expense items  After Tax ROE  \\\n",
       "0         -222000000.0               -1.961000e+09           23.0   \n",
       "1          -93000000.0               -2.723000e+09           67.0   \n",
       "2         -160000000.0               -1.500000e+08          143.0   \n",
       "3          352000000.0               -7.080000e+08          135.0   \n",
       "4          -89482000.0                6.000000e+05           32.0   \n",
       "\n",
       "   Capital Expenditures  Capital Surplus  Cash Ratio  ...  \\\n",
       "0         -1.888000e+09     4.695000e+09        53.0  ...   \n",
       "1         -3.114000e+09     1.059200e+10        75.0  ...   \n",
       "2         -5.311000e+09     1.513500e+10        60.0  ...   \n",
       "3         -6.151000e+09     1.159100e+10        51.0  ...   \n",
       "4         -2.711820e+08     5.202150e+08        23.0  ...   \n",
       "\n",
       "   Total Current Assets  Total Current Liabilities  Total Equity  \\\n",
       "0          7.072000e+09               9.011000e+09 -7.987000e+09   \n",
       "1          1.432300e+10               1.380600e+10 -2.731000e+09   \n",
       "2          1.175000e+10               1.340400e+10  2.021000e+09   \n",
       "3          9.985000e+09               1.360500e+10  5.635000e+09   \n",
       "4          3.184200e+09               2.559638e+09  1.210694e+09   \n",
       "\n",
       "   Total Liabilities  Total Liabilities & Equity  Total Revenue  \\\n",
       "0       2.489100e+10                1.690400e+10   2.485500e+10   \n",
       "1       4.500900e+10                4.227800e+10   2.674300e+10   \n",
       "2       4.120400e+10                4.322500e+10   4.265000e+10   \n",
       "3       4.278000e+10                4.841500e+10   4.099000e+10   \n",
       "4       3.403120e+09                4.613814e+09   6.205003e+09   \n",
       "\n",
       "   Treasury Stock  For Year  Earnings Per Share  Estimated Shares Outstanding  \n",
       "0    -367000000.0    2012.0               -5.60                  3.350000e+08  \n",
       "1             0.0    2013.0              -11.25                  1.630222e+08  \n",
       "2             0.0    2014.0                4.02                  7.169154e+08  \n",
       "3             0.0    2015.0               11.39                  6.681299e+08  \n",
       "4     -27095000.0    2012.0                5.29                  7.328355e+07  \n",
       "\n",
       "[5 rows x 79 columns]"
      ]
     },
     "execution_count": 10,
     "metadata": {},
     "output_type": "execute_result"
    }
   ],
   "source": [
    "dataset.head()\n"
   ]
  },
  {
   "cell_type": "code",
   "execution_count": 11,
   "metadata": {},
   "outputs": [],
   "source": [
    "dataset.drop(['Ticker Symbol', 'Period Ending', 'Unnamed: 0'], axis = 1, inplace = True)\n"
   ]
  },
  {
   "cell_type": "code",
   "execution_count": 12,
   "metadata": {},
   "outputs": [
    {
     "name": "stdout",
     "output_type": "stream",
     "text": [
      "<class 'pandas.core.frame.DataFrame'>\n",
      "RangeIndex: 1781 entries, 0 to 1780\n",
      "Data columns (total 76 columns):\n",
      " #   Column                                               Non-Null Count  Dtype  \n",
      "---  ------                                               --------------  -----  \n",
      " 0   Accounts Payable                                     1781 non-null   float64\n",
      " 1   Accounts Receivable                                  1781 non-null   float64\n",
      " 2   Add'l income/expense items                           1781 non-null   float64\n",
      " 3   After Tax ROE                                        1781 non-null   float64\n",
      " 4   Capital Expenditures                                 1781 non-null   float64\n",
      " 5   Capital Surplus                                      1781 non-null   float64\n",
      " 6   Cash Ratio                                           1482 non-null   float64\n",
      " 7   Cash and Cash Equivalents                            1781 non-null   float64\n",
      " 8   Changes in Inventories                               1781 non-null   float64\n",
      " 9   Common Stocks                                        1781 non-null   float64\n",
      " 10  Cost of Revenue                                      1781 non-null   float64\n",
      " 11  Current Ratio                                        1482 non-null   float64\n",
      " 12  Deferred Asset Charges                               1781 non-null   float64\n",
      " 13  Deferred Liability Charges                           1781 non-null   float64\n",
      " 14  Depreciation                                         1781 non-null   float64\n",
      " 15  Earnings Before Interest and Tax                     1781 non-null   float64\n",
      " 16  Earnings Before Tax                                  1781 non-null   float64\n",
      " 17  Effect of Exchange Rate                              1781 non-null   float64\n",
      " 18  Equity Earnings/Loss Unconsolidated Subsidiary       1781 non-null   float64\n",
      " 19  Fixed Assets                                         1781 non-null   float64\n",
      " 20  Goodwill                                             1781 non-null   float64\n",
      " 21  Gross Margin                                         1781 non-null   float64\n",
      " 22  Gross Profit                                         1781 non-null   float64\n",
      " 23  Income Tax                                           1781 non-null   float64\n",
      " 24  Intangible Assets                                    1781 non-null   float64\n",
      " 25  Interest Expense                                     1781 non-null   float64\n",
      " 26  Inventory                                            1781 non-null   float64\n",
      " 27  Investments                                          1781 non-null   float64\n",
      " 28  Liabilities                                          1781 non-null   float64\n",
      " 29  Long-Term Debt                                       1781 non-null   float64\n",
      " 30  Long-Term Investments                                1781 non-null   float64\n",
      " 31  Minority Interest                                    1781 non-null   float64\n",
      " 32  Misc. Stocks                                         1781 non-null   float64\n",
      " 33  Net Borrowings                                       1781 non-null   float64\n",
      " 34  Net Cash Flow                                        1781 non-null   float64\n",
      " 35  Net Cash Flow-Operating                              1781 non-null   float64\n",
      " 36  Net Cash Flows-Financing                             1781 non-null   float64\n",
      " 37  Net Cash Flows-Investing                             1781 non-null   float64\n",
      " 38  Net Income                                           1781 non-null   float64\n",
      " 39  Net Income Adjustments                               1781 non-null   float64\n",
      " 40  Net Income Applicable to Common Shareholders         1781 non-null   float64\n",
      " 41  Net Income-Cont. Operations                          1781 non-null   float64\n",
      " 42  Net Receivables                                      1781 non-null   float64\n",
      " 43  Non-Recurring Items                                  1781 non-null   float64\n",
      " 44  Operating Income                                     1781 non-null   float64\n",
      " 45  Operating Margin                                     1781 non-null   float64\n",
      " 46  Other Assets                                         1781 non-null   float64\n",
      " 47  Other Current Assets                                 1781 non-null   float64\n",
      " 48  Other Current Liabilities                            1781 non-null   float64\n",
      " 49  Other Equity                                         1781 non-null   float64\n",
      " 50  Other Financing Activities                           1781 non-null   float64\n",
      " 51  Other Investing Activities                           1781 non-null   float64\n",
      " 52  Other Liabilities                                    1781 non-null   float64\n",
      " 53  Other Operating Activities                           1781 non-null   float64\n",
      " 54  Other Operating Items                                1781 non-null   float64\n",
      " 55  Pre-Tax Margin                                       1781 non-null   float64\n",
      " 56  Pre-Tax ROE                                          1781 non-null   float64\n",
      " 57  Profit Margin                                        1781 non-null   float64\n",
      " 58  Quick Ratio                                          1482 non-null   float64\n",
      " 59  Research and Development                             1781 non-null   float64\n",
      " 60  Retained Earnings                                    1781 non-null   float64\n",
      " 61  Sale and Purchase of Stock                           1781 non-null   float64\n",
      " 62  Sales, General and Admin.                            1781 non-null   float64\n",
      " 63  Short-Term Debt / Current Portion of Long-Term Debt  1781 non-null   float64\n",
      " 64  Short-Term Investments                               1781 non-null   float64\n",
      " 65  Total Assets                                         1781 non-null   float64\n",
      " 66  Total Current Assets                                 1781 non-null   float64\n",
      " 67  Total Current Liabilities                            1781 non-null   float64\n",
      " 68  Total Equity                                         1781 non-null   float64\n",
      " 69  Total Liabilities                                    1781 non-null   float64\n",
      " 70  Total Liabilities & Equity                           1781 non-null   float64\n",
      " 71  Total Revenue                                        1781 non-null   float64\n",
      " 72  Treasury Stock                                       1781 non-null   float64\n",
      " 73  For Year                                             1608 non-null   float64\n",
      " 74  Earnings Per Share                                   1562 non-null   float64\n",
      " 75  Estimated Shares Outstanding                         1562 non-null   float64\n",
      "dtypes: float64(76)\n",
      "memory usage: 1.0 MB\n"
     ]
    }
   ],
   "source": [
    "dataset.info()\n"
   ]
  },
  {
   "cell_type": "markdown",
   "metadata": {},
   "source": [
    "# Detecting Missing Values\n"
   ]
  },
  {
   "cell_type": "code",
   "execution_count": 13,
   "metadata": {},
   "outputs": [
    {
     "data": {
      "text/plain": [
       "Accounts Payable                                         0\n",
       "Accounts Receivable                                      0\n",
       "Add'l income/expense items                               0\n",
       "After Tax ROE                                            0\n",
       "Capital Expenditures                                     0\n",
       "Capital Surplus                                          0\n",
       "Cash Ratio                                             299\n",
       "Cash and Cash Equivalents                                0\n",
       "Changes in Inventories                                   0\n",
       "Common Stocks                                            0\n",
       "Cost of Revenue                                          0\n",
       "Current Ratio                                          299\n",
       "Deferred Asset Charges                                   0\n",
       "Deferred Liability Charges                               0\n",
       "Depreciation                                             0\n",
       "Earnings Before Interest and Tax                         0\n",
       "Earnings Before Tax                                      0\n",
       "Effect of Exchange Rate                                  0\n",
       "Equity Earnings/Loss Unconsolidated Subsidiary           0\n",
       "Fixed Assets                                             0\n",
       "Goodwill                                                 0\n",
       "Gross Margin                                             0\n",
       "Gross Profit                                             0\n",
       "Income Tax                                               0\n",
       "Intangible Assets                                        0\n",
       "Interest Expense                                         0\n",
       "Inventory                                                0\n",
       "Investments                                              0\n",
       "Liabilities                                              0\n",
       "Long-Term Debt                                           0\n",
       "Long-Term Investments                                    0\n",
       "Minority Interest                                        0\n",
       "Misc. Stocks                                             0\n",
       "Net Borrowings                                           0\n",
       "Net Cash Flow                                            0\n",
       "Net Cash Flow-Operating                                  0\n",
       "Net Cash Flows-Financing                                 0\n",
       "Net Cash Flows-Investing                                 0\n",
       "Net Income                                               0\n",
       "Net Income Adjustments                                   0\n",
       "Net Income Applicable to Common Shareholders             0\n",
       "Net Income-Cont. Operations                              0\n",
       "Net Receivables                                          0\n",
       "Non-Recurring Items                                      0\n",
       "Operating Income                                         0\n",
       "Operating Margin                                         0\n",
       "Other Assets                                             0\n",
       "Other Current Assets                                     0\n",
       "Other Current Liabilities                                0\n",
       "Other Equity                                             0\n",
       "Other Financing Activities                               0\n",
       "Other Investing Activities                               0\n",
       "Other Liabilities                                        0\n",
       "Other Operating Activities                               0\n",
       "Other Operating Items                                    0\n",
       "Pre-Tax Margin                                           0\n",
       "Pre-Tax ROE                                              0\n",
       "Profit Margin                                            0\n",
       "Quick Ratio                                            299\n",
       "Research and Development                                 0\n",
       "Retained Earnings                                        0\n",
       "Sale and Purchase of Stock                               0\n",
       "Sales, General and Admin.                                0\n",
       "Short-Term Debt / Current Portion of Long-Term Debt      0\n",
       "Short-Term Investments                                   0\n",
       "Total Assets                                             0\n",
       "Total Current Assets                                     0\n",
       "Total Current Liabilities                                0\n",
       "Total Equity                                             0\n",
       "Total Liabilities                                        0\n",
       "Total Liabilities & Equity                               0\n",
       "Total Revenue                                            0\n",
       "Treasury Stock                                           0\n",
       "For Year                                               173\n",
       "Earnings Per Share                                     219\n",
       "Estimated Shares Outstanding                           219\n",
       "dtype: int64"
      ]
     },
     "execution_count": 13,
     "metadata": {},
     "output_type": "execute_result"
    }
   ],
   "source": [
    "dataset.isnull().sum()\n"
   ]
  },
  {
   "cell_type": "markdown",
   "metadata": {},
   "source": [
    "# Correction of missing values\n"
   ]
  },
  {
   "cell_type": "code",
   "execution_count": 14,
   "metadata": {},
   "outputs": [],
   "source": [
    "from sklearn.impute import SimpleImputer\n",
    "imputer = SimpleImputer(missing_values = np.nan, strategy = 'mean')\n",
    "imputer.fit(dataset.iloc[:,6:7])\n",
    "dataset.iloc[:,6:7] = imputer.transform(dataset.iloc[:,6:7])\n",
    "\n",
    "imputer2 = SimpleImputer(missing_values = np.nan, strategy = 'mean')\n",
    "imputer2.fit(dataset.iloc[:,11:12])\n",
    "dataset.iloc[:,11:12] = imputer2.transform(dataset.iloc[:,11:12])\n",
    "\n",
    "imputer3 = SimpleImputer(missing_values = np.nan, strategy = 'mean')\n",
    "imputer3.fit(dataset.iloc[:,58:59])\n",
    "dataset.iloc[:,58:59] = imputer3.transform(dataset.iloc[:,58:59])\n",
    "\n",
    "imputer4 = SimpleImputer(missing_values = np.nan, strategy = 'mean')\n",
    "imputer4.fit(dataset.iloc[:,-1:])\n",
    "dataset.iloc[:,-1:] = imputer3.transform(dataset.iloc[:,-1:])\n",
    "\n",
    "imputer5 = SimpleImputer(missing_values = np.nan, strategy = 'mean')\n",
    "imputer5.fit(dataset.iloc[:,-2:-1])\n",
    "dataset.iloc[:,-2:-1] = imputer3.transform(dataset.iloc[:,-2:-1])\n",
    "\n",
    "imputer5 = SimpleImputer(missing_values = np.nan, strategy = 'mean')\n",
    "imputer5.fit(dataset.iloc[:,-3:-2])\n",
    "dataset.iloc[:,-3:-2] = imputer3.transform(dataset.iloc[:,-3:-2])"
   ]
  },
  {
   "cell_type": "code",
   "execution_count": 15,
   "metadata": {},
   "outputs": [],
   "source": [
    "X = dataset.drop('Earnings Per Share', axis = 1).values\n",
    "Y = dataset.iloc[:,-2:-1].values"
   ]
  },
  {
   "cell_type": "code",
   "execution_count": 16,
   "metadata": {},
   "outputs": [],
   "source": [
    "from sklearn.model_selection import train_test_split\n",
    "x_train, x_test,y_train,y_test = train_test_split(X, Y,test_size=0.2, random_state=0)"
   ]
  },
  {
   "cell_type": "code",
   "execution_count": 17,
   "metadata": {},
   "outputs": [],
   "source": [
    "\n",
    "from sklearn.preprocessing import StandardScaler\n",
    "sc = StandardScaler()\n",
    "X_train = sc.fit_transform(x_train)\n",
    "X_test = sc.fit_transform(x_test)"
   ]
  },
  {
   "cell_type": "markdown",
   "metadata": {},
   "source": [
    "# Standardize the Data\n"
   ]
  },
  {
   "cell_type": "markdown",
   "metadata": {},
   "source": [
    "# Principal component analysis"
   ]
  },
  {
   "cell_type": "code",
   "execution_count": 18,
   "metadata": {},
   "outputs": [],
   "source": [
    "from sklearn.decomposition import PCA\n",
    "\n",
    "pca = PCA(n_components = 43)\n",
    "X_train_pca = pca.fit_transform(X_train)\n",
    "X_test_pca = pca.transform(X_test)"
   ]
  },
  {
   "cell_type": "code",
   "execution_count": 19,
   "metadata": {},
   "outputs": [
    {
     "data": {
      "text/plain": [
       "(1424, 75)"
      ]
     },
     "execution_count": 19,
     "metadata": {},
     "output_type": "execute_result"
    }
   ],
   "source": [
    "X_train.shape\n"
   ]
  },
  {
   "cell_type": "code",
   "execution_count": 23,
   "metadata": {},
   "outputs": [
    {
     "data": {
      "text/plain": [
       "(1424, 43)"
      ]
     },
     "execution_count": 23,
     "metadata": {},
     "output_type": "execute_result"
    }
   ],
   "source": [
    "X_train_pca.shape\n",
    "\n"
   ]
  },
  {
   "cell_type": "markdown",
   "metadata": {},
   "source": [
    "# Modelling\n"
   ]
  },
  {
   "cell_type": "code",
   "execution_count": 21,
   "metadata": {},
   "outputs": [],
   "source": [
    "\n",
    "from xgboost import XGBRegressor\n",
    "\n",
    "xgb_non_pca = XGBRegressor()\n",
    "xgb_with_pca = XGBRegressor()\n",
    "\n",
    "xgb_non_pca.fit(X_train, y_train)\n",
    "xgb_with_pca.fit(X_train_pca, y_train)\n",
    "\n",
    "pred_non_pca = xgb_non_pca.predict(X_test)\n",
    "pred_with_pca = xgb_with_pca.predict(X_test_pca)"
   ]
  },
  {
   "cell_type": "code",
   "execution_count": 22,
   "metadata": {},
   "outputs": [
    {
     "name": "stdout",
     "output_type": "stream",
     "text": [
      "NON PCA 0.11408749118943873\n",
      "PCA 0.7136849647954208\n"
     ]
    }
   ],
   "source": [
    "\n",
    "print('NON PCA', r2_score(y_test, pred_non_pca))\n",
    "print('PCA', r2_score(y_test, pred_with_pca))"
   ]
  },
  {
   "cell_type": "code",
   "execution_count": null,
   "metadata": {},
   "outputs": [],
   "source": []
  },
  {
   "cell_type": "code",
   "execution_count": null,
   "metadata": {},
   "outputs": [],
   "source": []
  },
  {
   "cell_type": "code",
   "execution_count": null,
   "metadata": {},
   "outputs": [],
   "source": []
  },
  {
   "cell_type": "code",
   "execution_count": null,
   "metadata": {},
   "outputs": [],
   "source": []
  },
  {
   "cell_type": "code",
   "execution_count": null,
   "metadata": {},
   "outputs": [],
   "source": []
  }
 ],
 "metadata": {
  "kernelspec": {
   "display_name": "Python 3",
   "language": "python",
   "name": "python3"
  },
  "language_info": {
   "codemirror_mode": {
    "name": "ipython",
    "version": 3
   },
   "file_extension": ".py",
   "mimetype": "text/x-python",
   "name": "python",
   "nbconvert_exporter": "python",
   "pygments_lexer": "ipython3",
   "version": "3.7.6"
  }
 },
 "nbformat": 4,
 "nbformat_minor": 4
}
